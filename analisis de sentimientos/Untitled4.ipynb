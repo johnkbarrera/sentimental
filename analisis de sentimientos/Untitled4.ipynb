{
 "cells": [
  {
   "cell_type": "code",
   "execution_count": null,
   "metadata": {},
   "outputs": [],
   "source": [
    "# pip install python-twitter\n",
    "# pip install ipython"
   ]
  },
  {
   "cell_type": "code",
   "execution_count": 1,
   "metadata": {},
   "outputs": [],
   "source": [
    "import twitter"
   ]
  },
  {
   "cell_type": "code",
   "execution_count": 2,
   "metadata": {},
   "outputs": [],
   "source": [
    "\n",
    "consumer_key = \"yZFeWEz9JjZleyUOlBGgnDXD6\"\n",
    "consumer_secret = \"v0VhWMfmOLbWujEmlpzttbrN0fvfNpC55zpo8laIpLF51tGyXs\"\n",
    "access_token_key = \"385059774-Ndv0Azv3FaRVAw0Ibndu8KMdW5tdeoCBRZsh6ixW\"\n",
    "access_token_secret = \"qVq2j5tg3fdPE3eesKjnErPyiOt16BBaM0cToHgz0g8IR\"\n",
    "\n",
    "api = twitter.Api(consumer_key,consumer_secret, access_token_key, access_token_secret)"
   ]
  },
  {
   "cell_type": "code",
   "execution_count": 3,
   "metadata": {},
   "outputs": [
    {
     "name": "stdout",
     "output_type": "stream",
     "text": [
      "{\"created_at\": \"Tue Oct 04 20:07:41 +0000 2011\", \"default_profile\": true, \"followers_count\": 31, \"friends_count\": 32, \"id\": 385059774, \"id_str\": \"385059774\", \"lang\": \"es\", \"name\": \"John Kevin Barrera\", \"profile_background_color\": \"C0DEED\", \"profile_background_image_url\": \"http://abs.twimg.com/images/themes/theme1/bg.png\", \"profile_background_image_url_https\": \"https://abs.twimg.com/images/themes/theme1/bg.png\", \"profile_banner_url\": \"https://pbs.twimg.com/profile_banners/385059774/1500841999\", \"profile_image_url\": \"http://pbs.twimg.com/profile_images/1054968915997155328/IbXVTKWS_normal.jpg\", \"profile_image_url_https\": \"https://pbs.twimg.com/profile_images/1054968915997155328/IbXVTKWS_normal.jpg\", \"profile_link_color\": \"1DA1F2\", \"profile_sidebar_border_color\": \"C0DEED\", \"profile_sidebar_fill_color\": \"DDEEF6\", \"profile_text_color\": \"333333\", \"profile_use_background_image\": true, \"screen_name\": \"johnbarrerac\", \"status\": {\"created_at\": \"Sun Sep 23 02:01:48 +0000 2018\", \"id\": 1043681810046242816, \"id_str\": \"1043681810046242816\", \"in_reply_to_screen_name\": \"thecristiansher\", \"in_reply_to_status_id\": 1043306986073415681, \"in_reply_to_user_id\": 270370013, \"lang\": \"es\", \"source\": \"<a href=\\\"http://twitter.com\\\" rel=\\\"nofollow\\\">Twitter Web Client</a>\", \"text\": \"@thecristiansher El resto la pasas normal?, o quizas lo disfrute xd... esa cifra yo creo que es fake, lo digo por su manera de muestrear\"}, \"statuses_count\": 92}\n"
     ]
    }
   ],
   "source": [
    "print(api.VerifyCredentials())"
   ]
  },
  {
   "cell_type": "code",
   "execution_count": null,
   "metadata": {},
   "outputs": [],
   "source": []
  },
  {
   "cell_type": "code",
   "execution_count": 4,
   "metadata": {},
   "outputs": [
    {
     "name": "stdout",
     "output_type": "stream",
     "text": [
      "1063446611278340097 HAPPY BIRTHDAY Yugyeom\n",
      "\n",
      "#NoOneElseButYugyeomDay https://t.co/vWPb5OtWXl\n",
      "1063380449127411713 We all want to live a happy life, so we have to learn to live together in trust and mutual respect. We do have diff… https://t.co/QZse1nCrRW\n",
      "1063446594039689216 Happy Birthday to #GOT7's Yugyeom! #HappyYugyeomDay!  🎉 Catch up with him: https://t.co/UtZDk8GVTm https://t.co/2mR3EiUX5E\n",
      "1063890250425094144 RT @DC_Animated: November 17, 2001\n",
      "\n",
      "17 years ago. \n",
      "\n",
      "DC's iconic heroes teamed up for a new animated TV show, expanding and continuing the l…\n",
      "1063890249678536709 RT @ghlowiing: you ever go to someone’s house and see every family member just being happy and getting along like damn bitch y’all live lik…\n",
      "1063890249569501184 RT @doolsetbangtan: (we call the survivors grandmothers), when she heard about what ARMYs are doing, said she's very grateful that her stor…\n",
      "1063890249477050368 RT @Demonsea: ซองอูคาเฟ่ 181117\n",
      "\n",
      "หัวข้อ: พรางตัว\n",
      "\n",
      "วันที่ผมพรางตัวสำเร็จ\n",
      "\n",
      "(ที่น้องเล่าใน Happy Together ว่าพรางตัวไปฮานึลกงวอนไปถ่ายรูปค่ะ)…\n",
      "1063890249405865985 RT @kylieminogue: Happy weekend Lovers! ☀️ https://t.co/sCNds1ohaH\n",
      "1063890249145815042 As I am sad it is over, I am also happy it happened. So wipe your tears, because this isn't the end. It's only the… https://t.co/nluwTYgQag\n",
      "1063890249099685889 @V_jimin_Happy @Niallll @XTRARADIO @BTS_twt Kim Namjoon\n",
      "#WasteItOnMe #Bts #방탄소년단 \n",
      "@BTS_twt https://t.co/Bm75eQON0b\n",
      "1063890247724015622 RT @TheCinegogue: Happy birthday, Martin Scorsese. An undeniable master and one of the greatest filmmakers of all time. https://t.co/wvZdab…\n",
      "1063890247270850560 RT @katya_zamo: Happy birthday to Ru! @RuPaul https://t.co/rpikkmrj2I\n",
      "1063890246948007936 @cybernova @YouTube Yay I’m so happy I was in the video!!!\n",
      "1063890246897668096 RT @DalaiLama: We all want to live a happy life, so we have to learn to live together in trust and mutual respect. We do have differences o…\n",
      "1063890246884945920 THETA MADE!!! HAPPY FOUNDERS BRUHZ!!! https://t.co/ukTLJf9woN\n"
     ]
    }
   ],
   "source": [
    "search = api.GetSearch(\"happy\") # Replace happy with your search\n",
    "for tweet in search:\n",
    "    print(tweet.id, tweet.text)"
   ]
  },
  {
   "cell_type": "code",
   "execution_count": null,
   "metadata": {},
   "outputs": [],
   "source": []
  },
  {
   "cell_type": "code",
   "execution_count": null,
   "metadata": {},
   "outputs": [],
   "source": []
  },
  {
   "cell_type": "code",
   "execution_count": 5,
   "metadata": {},
   "outputs": [],
   "source": [
    "user = \"johnbarrerac\""
   ]
  },
  {
   "cell_type": "code",
   "execution_count": 6,
   "metadata": {},
   "outputs": [],
   "source": [
    "t = api.GetUserTimeline(screen_name=user, count=10)"
   ]
  },
  {
   "cell_type": "code",
   "execution_count": 7,
   "metadata": {},
   "outputs": [],
   "source": [
    "tweets = [i.AsDict() for i in t]"
   ]
  },
  {
   "cell_type": "code",
   "execution_count": 8,
   "metadata": {},
   "outputs": [
    {
     "name": "stdout",
     "output_type": "stream",
     "text": [
      "1043681810046242816 \n",
      " @thecristiansher El resto la pasas normal?, o quizas lo disfrute xd... esa cifra yo creo que es fake, lo digo por su manera de muestrear\n",
      "\n",
      "1018386402470395904 \n",
      " Friend of Mine (朋友 English Ver.) - Alan Tam Wing Lun (譚詠麟) https://t.co/4fY4fbRxJ3\n",
      "\n",
      "989242691631403010 \n",
      " INEI: 375 mil peruanos pasaron a la pobreza en el 2017 https://t.co/yA01lCH77h\n",
      "\n",
      "945843712927477760 \n",
      " Pablo Iglesias: \"Indulto a Fujimori es un acto indigno contra las víctimas y la democracia en Perú\" https://t.co/63kLCvuuso\n",
      "\n",
      "905948792024948736 \n",
      " @blockchain Hi, I'm doing my thesis and u share an api key, thanks for that,now I'd like help with exception handling (error list of Txs).\n",
      "\n",
      "887590090087608320 \n",
      " “Con P de Patria, la E del Ejemplo, la R de Rifle, la U de Unión, Felices fiestas patrias, feliz 28 , Viva el... https://t.co/zNJjTfIfVF\n",
      "\n",
      "871070743601102848 \n",
      " Celebremos el Día del Agricultor, MINAGRI Perú https://t.co/YnNOR3WzUT\n",
      "\n",
      "754540974269792257 \n",
      " Brian Wilson - \"Love and Mercy\" https://t.co/acmRFmhUNi\n",
      "\n",
      "708427136424480768 \n",
      " llaqtan llaqtan maskamuyki, mana pipa musiasqan, \n",
      "imaynapas tarisqaykim rikusqaykim yachakuy https://t.co/0EjoG3a1hv\n",
      "\n",
      "679820665831198720 \n",
      " #10cosas: Walter Benjamin, el pensador fragmentario y marginal - PUCP https://t.co/yVfBhgBuVZ\n",
      "\n"
     ]
    }
   ],
   "source": [
    "for t in tweets:\n",
    "    print(t['id'],\"\\n\",t['text'])\n",
    "    print(\"\")"
   ]
  },
  {
   "cell_type": "code",
   "execution_count": null,
   "metadata": {},
   "outputs": [],
   "source": []
  },
  {
   "cell_type": "code",
   "execution_count": null,
   "metadata": {},
   "outputs": [],
   "source": []
  },
  {
   "cell_type": "code",
   "execution_count": null,
   "metadata": {},
   "outputs": [],
   "source": []
  }
 ],
 "metadata": {
  "kernelspec": {
   "display_name": "Python 3",
   "language": "python",
   "name": "python3"
  },
  "language_info": {
   "codemirror_mode": {
    "name": "ipython",
    "version": 3
   },
   "file_extension": ".py",
   "mimetype": "text/x-python",
   "name": "python",
   "nbconvert_exporter": "python",
   "pygments_lexer": "ipython3",
   "version": "3.6.5"
  },
  "toc": {
   "base_numbering": 1,
   "nav_menu": {},
   "number_sections": true,
   "sideBar": true,
   "skip_h1_title": false,
   "title_cell": "Table of Contents",
   "title_sidebar": "Contents",
   "toc_cell": false,
   "toc_position": {},
   "toc_section_display": true,
   "toc_window_display": false
  }
 },
 "nbformat": 4,
 "nbformat_minor": 2
}
