{
 "cells": [
  {
   "cell_type": "code",
   "execution_count": null,
   "metadata": {},
   "outputs": [
    {
     "name": "stdout",
     "output_type": "stream",
     "text": [
      "{\"delete\":{\"status\":{\"id\":1047217445298167811,\"id_str\":\"1047217445298167811\",\"user_id\":385059774,\"user_id_str\":\"385059774\"},\"timestamp_ms\":\"1542483438961\"}}\r\n",
      "\n",
      "{\"delete\":{\"status\":{\"id\":1051862492144635905,\"id_str\":\"1051862492144635905\",\"user_id\":385059774,\"user_id_str\":\"385059774\"},\"timestamp_ms\":\"1542483443608\"}}\r\n",
      "\n"
     ]
    }
   ],
   "source": [
    "import tweepy\n",
    "import json\n",
    "\n",
    "# Import the necessary methods from tweepy library\n",
    "from tweepy.streaming import StreamListener\n",
    "from tweepy import OAuthHandler\n",
    "from tweepy import Stream\n",
    "\n",
    "# Variables that contains the user credentials to access Twitter API \n",
    "consumer_key = \"yZFeWEz9JjZleyUOlBGgnDXD6\"\n",
    "consumer_secret = \"v0VhWMfmOLbWujEmlpzttbrN0fvfNpC55zpo8laIpLF51tGyXs\"\n",
    "access_token = \"385059774-Ndv0Azv3FaRVAw0Ibndu8KMdW5tdeoCBRZsh6ixW\"\n",
    "access_token_secret = \"qVq2j5tg3fdPE3eesKjnErPyiOt16BBaM0cToHgz0g8IR\"\n",
    "    \n",
    "# This is a basic listener that just prints received tweets to stdout.\n",
    "class StdOutListener(StreamListener):\n",
    "\n",
    "    def on_data(self, data):\n",
    "        print(data)\n",
    "        return True\n",
    "\n",
    "    def on_error(self, status):\n",
    "        print(status)\n",
    "\n",
    "\n",
    "if __name__ == '__main__':\n",
    "    # This handles Twitter authentication and connection to Twitter Streaming API\n",
    "    l = StdOutListener()\n",
    "    auth = OAuthHandler(consumer_key, consumer_secret)\n",
    "    auth.set_access_token(access_token, access_token_secret)\n",
    "    stream = Stream(auth, l)\n",
    "    # stream.filter(track=['european central bank'])\n",
    "    stream.filter(follow=['385059774'])"
   ]
  }
 ],
 "metadata": {
  "kernelspec": {
   "display_name": "Python 3",
   "language": "python",
   "name": "python3"
  },
  "language_info": {
   "codemirror_mode": {
    "name": "ipython",
    "version": 3
   },
   "file_extension": ".py",
   "mimetype": "text/x-python",
   "name": "python",
   "nbconvert_exporter": "python",
   "pygments_lexer": "ipython3",
   "version": "3.6.5"
  },
  "toc": {
   "base_numbering": 1,
   "nav_menu": {},
   "number_sections": true,
   "sideBar": true,
   "skip_h1_title": false,
   "title_cell": "Table of Contents",
   "title_sidebar": "Contents",
   "toc_cell": false,
   "toc_position": {},
   "toc_section_display": true,
   "toc_window_display": false
  }
 },
 "nbformat": 4,
 "nbformat_minor": 2
}
