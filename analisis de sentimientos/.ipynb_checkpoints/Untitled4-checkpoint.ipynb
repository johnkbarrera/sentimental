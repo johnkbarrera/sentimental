{
 "cells": [
  {
   "cell_type": "code",
   "execution_count": null,
   "metadata": {},
   "outputs": [],
   "source": [
    "# pip install python-twitter\n",
    "# pip install ipython"
   ]
  },
  {
   "cell_type": "code",
   "execution_count": 2,
   "metadata": {},
   "outputs": [],
   "source": [
    "import twitter"
   ]
  },
  {
   "cell_type": "code",
   "execution_count": 3,
   "metadata": {},
   "outputs": [],
   "source": [
    "\n",
    "consumer_key = \"yZFeWEz9JjZleyUOlBGgnDXD6\"\n",
    "consumer_secret = \"v0VhWMfmOLbWujEmlpzttbrN0fvfNpC55zpo8laIpLF51tGyXs\"\n",
    "access_token_key = \"385059774-Ndv0Azv3FaRVAw0Ibndu8KMdW5tdeoCBRZsh6ixW\"\n",
    "access_token_secret = \"qVq2j5tg3fdPE3eesKjnErPyiOt16BBaM0cToHgz0g8IR\"\n",
    "\n",
    "api = twitter.Api(consumer_key,consumer_secret, access_token_key, access_token_secret)"
   ]
  },
  {
   "cell_type": "code",
   "execution_count": 5,
   "metadata": {},
   "outputs": [
    {
     "name": "stdout",
     "output_type": "stream",
     "text": [
      "{\"created_at\": \"Tue Oct 04 20:07:41 +0000 2011\", \"default_profile\": true, \"followers_count\": 31, \"friends_count\": 32, \"id\": 385059774, \"id_str\": \"385059774\", \"lang\": \"es\", \"name\": \"John Kevin Barrera\", \"profile_background_color\": \"C0DEED\", \"profile_background_image_url\": \"http://abs.twimg.com/images/themes/theme1/bg.png\", \"profile_background_image_url_https\": \"https://abs.twimg.com/images/themes/theme1/bg.png\", \"profile_banner_url\": \"https://pbs.twimg.com/profile_banners/385059774/1500841999\", \"profile_image_url\": \"http://pbs.twimg.com/profile_images/1054968915997155328/IbXVTKWS_normal.jpg\", \"profile_image_url_https\": \"https://pbs.twimg.com/profile_images/1054968915997155328/IbXVTKWS_normal.jpg\", \"profile_link_color\": \"1DA1F2\", \"profile_sidebar_border_color\": \"C0DEED\", \"profile_sidebar_fill_color\": \"DDEEF6\", \"profile_text_color\": \"333333\", \"profile_use_background_image\": true, \"screen_name\": \"johnbarrerac\", \"status\": {\"created_at\": \"Mon Oct 15 15:48:55 +0000 2018\", \"id\": 1051862492144635905, \"id_str\": \"1051862492144635905\", \"in_reply_to_screen_name\": \"Diannyra\", \"in_reply_to_user_id\": 540779473, \"lang\": \"und\", \"source\": \"<a href=\\\"http://twitter.com\\\" rel=\\\"nofollow\\\">Twitter Web Client</a>\", \"text\": \"@Diannyra hi\"}, \"statuses_count\": 94}\n"
     ]
    }
   ],
   "source": [
    "print(api.VerifyCredentials())"
   ]
  },
  {
   "cell_type": "code",
   "execution_count": null,
   "metadata": {},
   "outputs": [],
   "source": []
  },
  {
   "cell_type": "code",
   "execution_count": 6,
   "metadata": {},
   "outputs": [
    {
     "name": "stdout",
     "output_type": "stream",
     "text": [
      "1063446611278340097 HAPPY BIRTHDAY Yugyeom\n",
      "\n",
      "#NoOneElseButYugyeomDay https://t.co/vWPb5OtWXl\n",
      "1063380449127411713 We all want to live a happy life, so we have to learn to live together in trust and mutual respect. We do have diff… https://t.co/QZse1nCrRW\n",
      "1063446594039689216 Happy Birthday to #GOT7's Yugyeom! #HappyYugyeomDay!  🎉 Catch up with him: https://t.co/UtZDk8GVTm https://t.co/2mR3EiUX5E\n",
      "1063877485266432001 RT @lastlynch: Man S/o to the GOOD Bruh’s. @Tha_Boot_Bruhz happy founders Day\n",
      "1063877485115424768 RT @realellek: November in high school: \n",
      "holiday planning, happy music, calm scented candles flickering in the distance\n",
      "\n",
      "November in colleg…\n",
      "1063877484792303616 RT @HistoryToLearn: “I think the saddest people always try their hardest to make people happy because they know what it’s like to feel abso…\n",
      "1063877484784091136 @dangellq Happy birthday sis I wish all your dreams comes true I love you so much❤❤🥂 https://t.co/xv89uP2wo4\n",
      "1063877484603629568 RT @P_StefiJKT48: Happy😊\n",
      "うれしい😊 https://t.co/ZpCPRwySxN\n",
      "1063877484557623296 RT @MelodiePariseau: Yes! Happy weekend everyone. Mama, did you just mention pizza time?😉👍🏼🍕@dogcelebration #dogsoftwitter #dogsarefamily h…\n",
      "1063877484205101056 RT @JRRDunlop: So a few people had some constructive feedback and I agreed with them. I have to admit this one looks a lot more like a live…\n",
      "1063877483857096709 RT @blkgirlculture: Happy 51st Birthday Lisa Bonet🖤 https://t.co/ELlNB5Xfqc\n",
      "1063877483810951170 RT @HistoryToLearn: “I think the saddest people always try their hardest to make people happy because they know what it’s like to feel abso…\n",
      "1063877483618017280 RT @TristanACooper: If we ever end up getting a Zelda TV series I'd be happy if it was half as good as the anime fight between Link and Pit…\n",
      "1063877483009908737 RT @rawrkatic: happy birthday to the extraordinary KB and thank you to the woman who brought her to life @Stana_Katic 💕 https://t.co/Yw2rJw…\n",
      "1063877482678489089 Thanks to all for making my Day!!! \n",
      "\n",
      "Happy Birthday To Me!!! 😍😁\n"
     ]
    }
   ],
   "source": [
    "search = api.GetSearch(\"happy\") # Replace happy with your search\n",
    "for tweet in search:\n",
    "    print(tweet.id, tweet.text)"
   ]
  },
  {
   "cell_type": "code",
   "execution_count": null,
   "metadata": {},
   "outputs": [],
   "source": []
  },
  {
   "cell_type": "code",
   "execution_count": null,
   "metadata": {},
   "outputs": [],
   "source": []
  },
  {
   "cell_type": "code",
   "execution_count": 54,
   "metadata": {},
   "outputs": [],
   "source": [
    "user = \"johnbarrerac\""
   ]
  },
  {
   "cell_type": "code",
   "execution_count": 55,
   "metadata": {},
   "outputs": [],
   "source": [
    "t = api.GetUserTimeline(screen_name=user, count=10)"
   ]
  },
  {
   "cell_type": "code",
   "execution_count": 56,
   "metadata": {},
   "outputs": [],
   "source": [
    "tweets = [i.AsDict() for i in t]"
   ]
  },
  {
   "cell_type": "code",
   "execution_count": 57,
   "metadata": {},
   "outputs": [
    {
     "name": "stdout",
     "output_type": "stream",
     "text": [
      "1043681810046242816 \n",
      " @thecristiansher El resto la pasas normal?, o quizas lo disfrute xd... esa cifra yo creo que es fake, lo digo por su manera de muestrear\n",
      "\n",
      "1018386402470395904 \n",
      " Friend of Mine (朋友 English Ver.) - Alan Tam Wing Lun (譚詠麟) https://t.co/4fY4fbRxJ3\n",
      "\n",
      "989242691631403010 \n",
      " INEI: 375 mil peruanos pasaron a la pobreza en el 2017 https://t.co/yA01lCH77h\n",
      "\n",
      "945843712927477760 \n",
      " Pablo Iglesias: \"Indulto a Fujimori es un acto indigno contra las víctimas y la democracia en Perú\" https://t.co/63kLCvuuso\n",
      "\n",
      "905948792024948736 \n",
      " @blockchain Hi, I'm doing my thesis and u share an api key, thanks for that,now I'd like help with exception handling (error list of Txs).\n",
      "\n",
      "887590090087608320 \n",
      " “Con P de Patria, la E del Ejemplo, la R de Rifle, la U de Unión, Felices fiestas patrias, feliz 28 , Viva el... https://t.co/zNJjTfIfVF\n",
      "\n",
      "871070743601102848 \n",
      " Celebremos el Día del Agricultor, MINAGRI Perú https://t.co/YnNOR3WzUT\n",
      "\n",
      "754540974269792257 \n",
      " Brian Wilson - \"Love and Mercy\" https://t.co/acmRFmhUNi\n",
      "\n",
      "708427136424480768 \n",
      " llaqtan llaqtan maskamuyki, mana pipa musiasqan, \n",
      "imaynapas tarisqaykim rikusqaykim yachakuy https://t.co/0EjoG3a1hv\n",
      "\n",
      "679820665831198720 \n",
      " #10cosas: Walter Benjamin, el pensador fragmentario y marginal - PUCP https://t.co/yVfBhgBuVZ\n",
      "\n"
     ]
    }
   ],
   "source": [
    "for t in tweets:\n",
    "    print(t['id'],\"\\n\",t['text'])\n",
    "    print(\"\")"
   ]
  },
  {
   "cell_type": "code",
   "execution_count": null,
   "metadata": {},
   "outputs": [],
   "source": []
  }
 ],
 "metadata": {
  "kernelspec": {
   "display_name": "Python 3",
   "language": "python",
   "name": "python3"
  },
  "language_info": {
   "codemirror_mode": {
    "name": "ipython",
    "version": 3
   },
   "file_extension": ".py",
   "mimetype": "text/x-python",
   "name": "python",
   "nbconvert_exporter": "python",
   "pygments_lexer": "ipython3",
   "version": "3.6.5"
  },
  "toc": {
   "base_numbering": 1,
   "nav_menu": {},
   "number_sections": true,
   "sideBar": true,
   "skip_h1_title": false,
   "title_cell": "Table of Contents",
   "title_sidebar": "Contents",
   "toc_cell": false,
   "toc_position": {},
   "toc_section_display": true,
   "toc_window_display": false
  }
 },
 "nbformat": 4,
 "nbformat_minor": 2
}
