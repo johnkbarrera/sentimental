{
 "cells": [
  {
   "cell_type": "code",
   "execution_count": null,
   "metadata": {},
   "outputs": [],
   "source": []
  },
  {
   "cell_type": "code",
   "execution_count": 2,
   "metadata": {},
   "outputs": [
    {
     "name": "stdout",
     "output_type": "stream",
     "text": [
      "Email sent!\n"
     ]
    }
   ],
   "source": [
    "import smtplib\n",
    "import email\n",
    "from email.mime.multipart import MIMEMultipart\n",
    "from email.mime.text import MIMEText\n",
    "from email.mime.base import MIMEBase\n",
    "\n",
    "# from email.MIMEMultipart import MIMEMultipart\n",
    "# from email.MIMEText import MIMEText\n",
    "# from email.MIMEBase import MIMEBase\n",
    "from email import encoders\n",
    " \n",
    "fromaddr = \"jk.barrerac@up.edu.pe\" \n",
    "toaddr = 'jbarreraco@fen.uchile.cl'\n",
    "gmail_password = \"\"\n",
    "\n",
    "msg = MIMEMultipart()\n",
    " \n",
    "msg['From'] = fromaddr\n",
    "msg['To'] = toaddr\n",
    "msg['Subject'] = \"SUBJECT OF THE EMAIL\"\n",
    " \n",
    "body = \"TEXT YOU WANT TO SEND\"\n",
    " \n",
    "msg.attach(MIMEText(body, 'plain'))\n",
    " \n",
    "filename = \"NAME OF THE FILE WITH ITS EXTENSION\"\n",
    "attachment = open(\"hola.pdf\", \"rb\")\n",
    " \n",
    "part = MIMEBase('application', 'octet-stream')\n",
    "part.set_payload((attachment).read())\n",
    "encoders.encode_base64(part)\n",
    "part.add_header('Content-Disposition', \"attachment; filename= %s\" % filename)\n",
    "msg.attach(part)\n",
    " \n",
    "try:\n",
    "    server = smtplib.SMTP('smtp.gmail.com', 587)\n",
    "    server.starttls()\n",
    "    server.login(fromaddr, gmail_password)\n",
    "    text = msg.as_string()\n",
    "    server.sendmail(fromaddr, toaddr, text)\n",
    "    print('Email sent!')\n",
    "    server.quit()\n",
    "    \n",
    "except BaseException as e:\n",
    "    print(\"Error on_data: %s\" % str(e))    \n",
    "    print('Something went wrong...')"
   ]
  },
  {
   "cell_type": "code",
   "execution_count": null,
   "metadata": {},
   "outputs": [],
   "source": []
  },
  {
   "cell_type": "code",
   "execution_count": null,
   "metadata": {},
   "outputs": [],
   "source": []
  }
 ],
 "metadata": {
  "kernelspec": {
   "display_name": "Python 3",
   "language": "python",
   "name": "python3"
  },
  "language_info": {
   "codemirror_mode": {
    "name": "ipython",
    "version": 3
   },
   "file_extension": ".py",
   "mimetype": "text/x-python",
   "name": "python",
   "nbconvert_exporter": "python",
   "pygments_lexer": "ipython3",
   "version": "3.6.5"
  },
  "toc": {
   "base_numbering": 1,
   "nav_menu": {},
   "number_sections": true,
   "sideBar": true,
   "skip_h1_title": false,
   "title_cell": "Table of Contents",
   "title_sidebar": "Contents",
   "toc_cell": false,
   "toc_position": {},
   "toc_section_display": true,
   "toc_window_display": false
  }
 },
 "nbformat": 4,
 "nbformat_minor": 2
}
