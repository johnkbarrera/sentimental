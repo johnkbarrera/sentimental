{
 "cells": [
  {
   "cell_type": "code",
   "execution_count": null,
   "metadata": {},
   "outputs": [],
   "source": []
  },
  {
   "cell_type": "code",
   "execution_count": null,
   "metadata": {},
   "outputs": [],
   "source": []
  },
  {
   "cell_type": "code",
   "execution_count": null,
   "metadata": {},
   "outputs": [],
   "source": []
  },
  {
   "cell_type": "code",
   "execution_count": null,
   "metadata": {},
   "outputs": [],
   "source": []
  },
  {
   "cell_type": "code",
   "execution_count": 1,
   "metadata": {},
   "outputs": [
    {
     "ename": "SyntaxError",
     "evalue": "invalid syntax (<ipython-input-1-b80462c53b81>, line 35)",
     "output_type": "error",
     "traceback": [
      "\u001b[1;36m  File \u001b[1;32m\"<ipython-input-1-b80462c53b81>\"\u001b[1;36m, line \u001b[1;32m35\u001b[0m\n\u001b[1;33m    friendsCount_user,favouritesCount_user)\u001b[0m\n\u001b[1;37m                    ^\u001b[0m\n\u001b[1;31mSyntaxError\u001b[0m\u001b[1;31m:\u001b[0m invalid syntax\n"
     ]
    }
   ],
   "source": [
    "import tweepy\n",
    "\n",
    "import time\n",
    "import json\n",
    "\n",
    "class TwitterListener(tweepy.StreamListener):\n",
    "    \"\"\"Custom StreamListener for streaming data.\"\"\"\n",
    "    def __init__(self, time_limit=60):\n",
    "        self.start_time = time.time()\n",
    "        self.limit = time_limit\n",
    "        \n",
    "    def on_data(self, tweet_json):\n",
    "        if (time.time() - self.start_time) < self.limit:\n",
    "            tweet_json = tweet_json.encode('utf8')\n",
    "            decoded = json.loads(tweet_json)\n",
    "            print(decoded)\n",
    "            try:\n",
    "                #Obtener datos Usuario\n",
    "                userjson = decoded.get('user')\n",
    "                id_user = userjson.get('id')\n",
    "                created_user = UtilTwitter.format_datetime(userjson.get('created_at'))\n",
    "                name_user = UtilTwitter.clear_text(userjson.get('name'))\n",
    "                location_user = UtilTwitter.clear_text(userjson.get('location'))\n",
    "                description_user = UtilTwitter.clear_text(userjson.get('description'))\n",
    "                followersCount_user = userjson.get('followers_count')\n",
    "                friendsCount_user = userjson.get('friends_count')\n",
    "                favouritesCount_user = userjson.get('favourites_count')\n",
    "\n",
    "                #Obtener datos Tweet\n",
    "                id_tweet = decoded.get('id_str')\n",
    "                text_tweet = UtilTwitter.remove_emoticon(decoded.get('text'))\n",
    "                created_tweet = UtilTwitter.format_datetime(decoded.get('created_at'))\n",
    "\n",
    "                oUser = User(id_user,created_user,name_user,location_user,description_u\n",
    "                             friendsCount_user,favouritesCount_user)\n",
    "                print(oUser)\n",
    "\n",
    "                oTweet = Tweet(id_tweet, created_tweet, text_tweet, oUser)\n",
    "                print(oTweet)\n",
    "\n",
    "                oUser.agregarUsuario()\n",
    "                oTweet.agregarTweet()\n",
    "\n",
    "            except BaseException as e:\n",
    "                print(\"Error on_data: %s\" % str(e))\n",
    "                time.sleep(5)\n",
    "            return True\n",
    "        else:\n",
    "            return False #Kill current stream\n",
    "        \n",
    "    def on_error(self, status):\n",
    "        print(\"Error status: \" + str(status))\n",
    "        return True\n",
    "        \n",
    "    def on_timeout(self):\n",
    "        print ('Timeout...')\n",
    "        return True # Don't kill the stream"
   ]
  },
  {
   "cell_type": "code",
   "execution_count": null,
   "metadata": {},
   "outputs": [],
   "source": [
    "    "
   ]
  },
  {
   "cell_type": "code",
   "execution_count": null,
   "metadata": {},
   "outputs": [],
   "source": []
  },
  {
   "cell_type": "code",
   "execution_count": 2,
   "metadata": {},
   "outputs": [],
   "source": [
    "from tweepy import OAuthHandler\n",
    "from "
   ]
  },
  {
   "cell_type": "code",
   "execution_count": 2,
   "metadata": {},
   "outputs": [
    {
     "ename": "SyntaxError",
     "evalue": "invalid syntax (<ipython-input-2-eab8c2aec3b9>, line 20)",
     "output_type": "error",
     "traceback": [
      "\u001b[1;36m  File \u001b[1;32m\"<ipython-input-2-eab8c2aec3b9>\"\u001b[1;36m, line \u001b[1;32m20\u001b[0m\n\u001b[1;33m    twitter_stream.filter(track=list_tag)\u001b[0m\n\u001b[1;37m                 ^\u001b[0m\n\u001b[1;31mSyntaxError\u001b[0m\u001b[1;31m:\u001b[0m invalid syntax\n"
     ]
    }
   ],
   "source": [
    "tweepy.streaming import StreamListener\n",
    "\n",
    "class ExtraccionTwitterCtrl(object):\n",
    "    #Credenciales de cuenta Twitter\n",
    "    CONSUMER_KEY = '9mwmv7Yt5R783Jry1bYEiGe2n'\n",
    "    CONSUMER_SECRET = 'NQazRU4BpfmfwKmWD2pxhebAjitfEFOPHErOKTrWjBrn4jpXSE'\n",
    "    ACCESS_TOKEN = '442102127-wvZfxbOkw3V8eQfbJgI7iSkyokI96tw8U2u5ROj0'\n",
    "    ACCESS_SECRET = 'L0PJfiYiT0cToCgZKDv6fMJD64iPbr0V9D6S0eHiVXRuW'\n",
    "    \n",
    "    def __init__(self):\n",
    "        # Autenticación\n",
    "        self.auth = OAuthHandler(self.CONSUMER_KEY, self.CONSUMER_SECRET)\n",
    "        self.auth.set_access_token(self.ACCESS_TOKEN, self.ACCESS_SECRET)\n",
    "        \n",
    "    def filterByText(self, list_tag, time_limit):\n",
    "        print(\"Inicio de filterByText\\n\")\n",
    "        try:\n",
    "            twitter_stream = tweepy.streaming.Stream(self.auth, TwitterListener(time_li\n",
    "            twitter_stream.filter(track=list_tag)\n",
    "        except (KeyboardInterrupt, SystemExit):\n",
    "            print(\"Parar proceso de extracción\\n\")\n",
    "        print(\"Fin de filterByText\\n\")\n",
    "                                                                            \n",
    "    def filterByLocations(self, locations, time_limit):\n",
    "        print(\"Inicio de filterByLocations\\n\")\n",
    "        try:\n",
    "            twitter_stream = tweepy.streaming.Stream(self.auth, TwitterListener(time_li\n",
    "            twitter_stream.filter(locations = france)\n",
    "        except (KeyboardInterrupt, SystemExit):\n",
    "            print(\"Parar proceso de extracción\\n\")\n",
    "        print(\"Fin de filterByLocations\\n\")"
   ]
  },
  {
   "cell_type": "code",
   "execution_count": null,
   "metadata": {},
   "outputs": [],
   "source": []
  }
 ],
 "metadata": {
  "kernelspec": {
   "display_name": "Python 3",
   "language": "python",
   "name": "python3"
  },
  "language_info": {
   "codemirror_mode": {
    "name": "ipython",
    "version": 3
   },
   "file_extension": ".py",
   "mimetype": "text/x-python",
   "name": "python",
   "nbconvert_exporter": "python",
   "pygments_lexer": "ipython3",
   "version": "3.6.5"
  },
  "toc": {
   "base_numbering": 1,
   "nav_menu": {},
   "number_sections": true,
   "sideBar": true,
   "skip_h1_title": false,
   "title_cell": "Table of Contents",
   "title_sidebar": "Contents",
   "toc_cell": false,
   "toc_position": {},
   "toc_section_display": true,
   "toc_window_display": false
  }
 },
 "nbformat": 4,
 "nbformat_minor": 2
}
